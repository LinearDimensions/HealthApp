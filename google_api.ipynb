{
 "cells": [
  {
   "cell_type": "code",
   "execution_count": 2,
   "metadata": {},
   "outputs": [
    {
     "name": "stdout",
     "output_type": "stream",
     "text": [
      "Defaulting to user installation because normal site-packages is not writeable\n",
      "Collecting google-objects\n",
      "  Downloading google_objects-0.0.7.tar.gz (16 kB)\n",
      "  Preparing metadata (setup.py): started\n",
      "  Preparing metadata (setup.py): finished with status 'done'\n",
      "Collecting google-api-python-client>=1.5.3\n",
      "  Downloading google_api_python_client-2.79.0-py2.py3-none-any.whl (11.0 MB)\n",
      "     --------------------------------------- 11.0/11.0 MB 21.2 MB/s eta 0:00:00\n",
      "Requirement already satisfied: pandas>=0.22.0 in c:\\users\\daniel li\\appdata\\roaming\\python\\python310\\site-packages (from google-objects) (1.4.3)\n",
      "Collecting fire>=0.1.3\n",
      "  Downloading fire-0.5.0.tar.gz (88 kB)\n",
      "     ---------------------------------------- 88.3/88.3 KB 5.2 MB/s eta 0:00:00\n",
      "  Preparing metadata (setup.py): started\n",
      "  Preparing metadata (setup.py): finished with status 'done'\n",
      "Requirement already satisfied: six in c:\\users\\daniel li\\appdata\\roaming\\python\\python310\\site-packages (from fire>=0.1.3->google-objects) (1.16.0)\n",
      "Collecting termcolor\n",
      "  Downloading termcolor-2.2.0-py3-none-any.whl (6.6 kB)\n",
      "Collecting google-api-core!=2.0.*,!=2.1.*,!=2.2.*,!=2.3.0,<3.0.0dev,>=1.31.5\n",
      "  Downloading google_api_core-2.11.0-py3-none-any.whl (120 kB)\n",
      "     -------------------------------------- 120.3/120.3 KB 6.9 MB/s eta 0:00:00\n",
      "Collecting google-auth-httplib2>=0.1.0\n",
      "  Using cached google_auth_httplib2-0.1.0-py2.py3-none-any.whl (9.3 kB)\n",
      "Collecting httplib2<1dev,>=0.15.0\n",
      "  Downloading httplib2-0.21.0-py3-none-any.whl (96 kB)\n",
      "     ---------------------------------------- 96.8/96.8 KB 5.8 MB/s eta 0:00:00\n",
      "Collecting uritemplate<5,>=3.0.1\n",
      "  Using cached uritemplate-4.1.1-py2.py3-none-any.whl (10 kB)\n",
      "Collecting google-auth<3.0.0dev,>=1.19.0\n",
      "  Downloading google_auth-2.16.1-py2.py3-none-any.whl (177 kB)\n",
      "     ------------------------------------- 177.2/177.2 KB 11.1 MB/s eta 0:00:00\n",
      "Requirement already satisfied: python-dateutil>=2.8.1 in c:\\users\\daniel li\\appdata\\roaming\\python\\python310\\site-packages (from pandas>=0.22.0->google-objects) (2.8.2)\n",
      "Requirement already satisfied: numpy>=1.21.0 in c:\\users\\daniel li\\appdata\\roaming\\python\\python310\\site-packages (from pandas>=0.22.0->google-objects) (1.23.1)\n",
      "Requirement already satisfied: pytz>=2020.1 in c:\\users\\daniel li\\appdata\\roaming\\python\\python310\\site-packages (from pandas>=0.22.0->google-objects) (2022.2)\n",
      "Requirement already satisfied: requests<3.0.0dev,>=2.18.0 in c:\\users\\daniel li\\appdata\\roaming\\python\\python310\\site-packages (from google-api-core!=2.0.*,!=2.1.*,!=2.2.*,!=2.3.0,<3.0.0dev,>=1.31.5->google-api-python-client>=1.5.3->google-objects) (2.28.2)\n",
      "Collecting googleapis-common-protos<2.0dev,>=1.56.2\n",
      "  Downloading googleapis_common_protos-1.58.0-py2.py3-none-any.whl (223 kB)\n",
      "     ------------------------------------- 223.0/223.0 KB 13.3 MB/s eta 0:00:00\n",
      "Collecting protobuf!=3.20.0,!=3.20.1,!=4.21.0,!=4.21.1,!=4.21.2,!=4.21.3,!=4.21.4,!=4.21.5,<5.0.0dev,>=3.19.5\n",
      "  Downloading protobuf-4.22.0-cp310-abi3-win_amd64.whl (420 kB)\n",
      "     -------------------------------------- 420.6/420.6 KB 8.7 MB/s eta 0:00:00\n",
      "Collecting pyasn1-modules>=0.2.1\n",
      "  Using cached pyasn1_modules-0.2.8-py2.py3-none-any.whl (155 kB)\n",
      "Collecting cachetools<6.0,>=2.0.0\n",
      "  Downloading cachetools-5.3.0-py3-none-any.whl (9.3 kB)\n",
      "Collecting rsa<5,>=3.1.4\n",
      "  Using cached rsa-4.9-py3-none-any.whl (34 kB)\n",
      "Requirement already satisfied: pyparsing!=3.0.0,!=3.0.1,!=3.0.2,!=3.0.3,<4,>=2.4.2 in c:\\users\\daniel li\\appdata\\roaming\\python\\python310\\site-packages (from httplib2<1dev,>=0.15.0->google-api-python-client>=1.5.3->google-objects) (3.0.9)\n",
      "Collecting pyasn1<0.5.0,>=0.4.6\n",
      "  Using cached pyasn1-0.4.8-py2.py3-none-any.whl (77 kB)\n",
      "Requirement already satisfied: idna<4,>=2.5 in c:\\users\\daniel li\\appdata\\roaming\\python\\python310\\site-packages (from requests<3.0.0dev,>=2.18.0->google-api-core!=2.0.*,!=2.1.*,!=2.2.*,!=2.3.0,<3.0.0dev,>=1.31.5->google-api-python-client>=1.5.3->google-objects) (3.4)\n",
      "Requirement already satisfied: certifi>=2017.4.17 in c:\\users\\daniel li\\appdata\\roaming\\python\\python310\\site-packages (from requests<3.0.0dev,>=2.18.0->google-api-core!=2.0.*,!=2.1.*,!=2.2.*,!=2.3.0,<3.0.0dev,>=1.31.5->google-api-python-client>=1.5.3->google-objects) (2022.12.7)\n",
      "Requirement already satisfied: charset-normalizer<4,>=2 in c:\\users\\daniel li\\appdata\\roaming\\python\\python310\\site-packages (from requests<3.0.0dev,>=2.18.0->google-api-core!=2.0.*,!=2.1.*,!=2.2.*,!=2.3.0,<3.0.0dev,>=1.31.5->google-api-python-client>=1.5.3->google-objects) (3.0.1)\n",
      "Requirement already satisfied: urllib3<1.27,>=1.21.1 in c:\\users\\daniel li\\appdata\\roaming\\python\\python310\\site-packages (from requests<3.0.0dev,>=2.18.0->google-api-core!=2.0.*,!=2.1.*,!=2.2.*,!=2.3.0,<3.0.0dev,>=1.31.5->google-api-python-client>=1.5.3->google-objects) (1.26.14)\n",
      "Using legacy 'setup.py install' for google-objects, since package 'wheel' is not installed.\n",
      "Using legacy 'setup.py install' for fire, since package 'wheel' is not installed.\n",
      "Installing collected packages: pyasn1, uritemplate, termcolor, rsa, pyasn1-modules, protobuf, httplib2, cachetools, googleapis-common-protos, google-auth, fire, google-auth-httplib2, google-api-core, google-api-python-client, google-objects\n",
      "  Running setup.py install for fire: started\n",
      "  Running setup.py install for fire: finished with status 'done'\n",
      "  Running setup.py install for google-objects: started\n",
      "  Running setup.py install for google-objects: finished with status 'done'\n",
      "Successfully installed cachetools-5.3.0 fire-0.5.0 google-api-core-2.11.0 google-api-python-client-2.79.0 google-auth-2.16.1 google-auth-httplib2-0.1.0 google-objects-0.0.7 googleapis-common-protos-1.58.0 httplib2-0.21.0 protobuf-4.22.0 pyasn1-0.4.8 pyasn1-modules-0.2.8 rsa-4.9 termcolor-2.2.0 uritemplate-4.1.1\n"
     ]
    },
    {
     "name": "stderr",
     "output_type": "stream",
     "text": [
      "  WARNING: The scripts pyrsa-decrypt.exe, pyrsa-encrypt.exe, pyrsa-keygen.exe, pyrsa-priv2pub.exe, pyrsa-sign.exe and pyrsa-verify.exe are installed in 'C:\\Users\\Daniel Li\\AppData\\Roaming\\Python\\Python310\\Scripts' which is not on PATH.\n",
      "  Consider adding this directory to PATH or, if you prefer to suppress this warning, use --no-warn-script-location.\n",
      "WARNING: You are using pip version 22.0.4; however, version 23.0.1 is available.\n",
      "You should consider upgrading via the 'C:\\Program Files\\Python310\\python.exe -m pip install --upgrade pip' command.\n"
     ]
    }
   ],
   "source": [
    "!pip install google-objects"
   ]
  },
  {
   "cell_type": "code",
   "execution_count": null,
   "metadata": {},
   "outputs": [],
   "source": [
    "from google_objects import DriveClient\n",
    "\n",
    "OAUTH2LIB_CREDS = \n",
    "gdrive = DriveClient(OAUTH2LIB_CREDS)\n",
    "about = gdrive.get_about()\n",
    "\n",
    "print(about.email)\n",
    "print(about.name)\n",
    "\n",
    "# prints link to profile photo\n",
    "print(about.photo)"
   ]
  },
  {
   "cell_type": "code",
   "execution_count": 1,
   "metadata": {},
   "outputs": [
    {
     "data": {
      "text/plain": [
       "<Response [401]>"
      ]
     },
     "execution_count": 1,
     "metadata": {},
     "output_type": "execute_result"
    }
   ],
   "source": [
    "import requests\n",
    "\n",
    "requests.post('https://slides.googleapis.com/v1/presentations')"
   ]
  },
  {
   "cell_type": "code",
   "execution_count": null,
   "metadata": {},
   "outputs": [],
   "source": [
    "POST \n",
    "requests.post('https://slides.googleapis.com/v1/presentations/{presentationId}:batchUpdate')"
   ]
  },
  {
   "cell_type": "code",
   "execution_count": 1,
   "metadata": {},
   "outputs": [
    {
     "name": "stdout",
     "output_type": "stream",
     "text": [
      "Defaulting to user installation because normal site-packages is not writeable\n",
      "Collecting python-pptx\n",
      "  Downloading python-pptx-0.6.21.tar.gz (10.1 MB)\n",
      "     ---------------------------------------- 10.1/10.1 MB 9.2 MB/s eta 0:00:00\n",
      "  Preparing metadata (setup.py): started\n",
      "  Preparing metadata (setup.py): finished with status 'done'\n",
      "Requirement already satisfied: lxml>=3.1.0 in c:\\users\\daniel li\\appdata\\roaming\\python\\python310\\site-packages (from python-pptx) (4.9.2)\n",
      "Requirement already satisfied: Pillow>=3.3.2 in c:\\users\\daniel li\\appdata\\roaming\\python\\python310\\site-packages (from python-pptx) (9.2.0)\n",
      "Collecting XlsxWriter>=0.5.7\n",
      "  Downloading XlsxWriter-3.0.8-py3-none-any.whl (152 kB)\n",
      "     ---------------------------------------- 152.8/152.8 KB ? eta 0:00:00\n",
      "Using legacy 'setup.py install' for python-pptx, since package 'wheel' is not installed.\n",
      "Installing collected packages: XlsxWriter, python-pptx\n",
      "  Running setup.py install for python-pptx: started\n",
      "  Running setup.py install for python-pptx: finished with status 'done'\n",
      "Successfully installed XlsxWriter-3.0.8 python-pptx-0.6.21\n"
     ]
    },
    {
     "name": "stderr",
     "output_type": "stream",
     "text": [
      "WARNING: You are using pip version 22.0.4; however, version 23.0.1 is available.\n",
      "You should consider upgrading via the 'C:\\Program Files\\Python310\\python.exe -m pip install --upgrade pip' command.\n"
     ]
    }
   ],
   "source": [
    "!pip install python-pptx"
   ]
  },
  {
   "cell_type": "code",
   "execution_count": 6,
   "metadata": {},
   "outputs": [
    {
     "name": "stdout",
     "output_type": "stream",
     "text": [
      "Image sucessfully Downloaded:  1.jpg\n"
     ]
    }
   ],
   "source": []
  },
  {
   "cell_type": "code",
   "execution_count": 62,
   "metadata": {},
   "outputs": [
    {
     "name": "stdout",
     "output_type": "stream",
     "text": [
      "Image sucessfully Downloaded:  1.jpg\n",
      "Image sucessfully Downloaded:  2.jpg\n",
      "Image sucessfully Downloaded:  3.jpg\n",
      "Image sucessfully Downloaded:  4.jpg\n",
      "Image sucessfully Downloaded:  5.jpg\n",
      "Image sucessfully Downloaded:  6.jpg\n",
      "Image sucessfully Downloaded:  7.jpg\n",
      "Image sucessfully Downloaded:  8.jpg\n"
     ]
    }
   ],
   "source": [
    "import requests\n",
    "import shutil\n",
    "\n",
    "i=0\n",
    "img_url = [\"https://images.unsplash.com/photo-1524781289445-ddf8f5695861?ixlib=rb-4.0.3&ixid=MnwxMjA3fDB8MHxwaG90by1wYWdlfHx8fGVufDB8fHx8&auto=format&fit=crop&w=1770&q=80\",\n",
    "\"https://images.unsplash.com/photo-1610194352361-4c81a6a8967e?ixlib=rb-4.0.3&ixid=MnwxMjA3fDB8MHxwaG90by1wYWdlfHx8fGVufDB8fHx8&auto=format&fit=crop&w=1674&q=80\",\n",
    "\"https://images.unsplash.com/photo-1618202133208-2907bebba9e1?ixlib=rb-4.0.3&ixid=MnwxMjA3fDB8MHxwaG90by1wYWdlfHx8fGVufDB8fHx8&auto=format&fit=crop&w=1770&q=80\",\n",
    "\"https://images.unsplash.com/photo-1495805442109-bf1cf975750b?ixlib=rb-4.0.3&ixid=MnwxMjA3fDB8MHxwaG90by1wYWdlfHx8fGVufDB8fHx8&auto=format&fit=crop&w=1770&q=80\",\n",
    "\"https://images.unsplash.com/photo-1548021682-1720ed403a5b?ixlib=rb-4.0.3&ixid=MnwxMjA3fDB8MHxwaG90by1wYWdlfHx8fGVufDB8fHx8&auto=format&fit=crop&w=1770&q=80\",\n",
    "\"https://images.unsplash.com/photo-1496753480864-3e588e0269b3?ixlib=rb-4.0.3&ixid=MnwxMjA3fDB8MHxwaG90by1wYWdlfHx8fGVufDB8fHx8&auto=format&fit=crop&w=2134&q=80\",\n",
    "\"https://images.unsplash.com/photo-1613346945084-35cccc812dd5?ixlib=rb-4.0.3&ixid=MnwxMjA3fDB8MHxwaG90by1wYWdlfHx8fGVufDB8fHx8&auto=format&fit=crop&w=1759&q=80\",\n",
    "\"https://images.unsplash.com/photo-1516681100942-77d8e7f9dd97?ixlib=rb-4.0.3&ixid=MnwxMjA3fDB8MHxwaG90by1wYWdlfHx8fGVufDB8fHx8&auto=format&fit=crop&w=1770&q=80\"]\n",
    "for img in img_url:\n",
    "    i+=1\n",
    "    r = requests.get(img, stream = True)\n",
    "    if r.status_code == 200:\n",
    "        r.raw.decode_content = True\n",
    "        filename = '{}.jpg'.format(i)\n",
    "        with open(filename,'wb') as f:\n",
    "            shutil.copyfileobj(r.raw, f)\n",
    "            \n",
    "        print('Image sucessfully Downloaded: ',filename)\n",
    "    else:\n",
    "        print('Image Couldn\\'t be retreived')\n",
    "\n",
    "from pptx import Presentation\n",
    "from pptx.util import Inches\n",
    "from PIL import Image\n",
    "\n",
    "prs = Presentation()\n",
    "for i in range(8):\n",
    "    try:\n",
    "        filepath = \"{}.jpg\".format(i+1)\n",
    "        img = Image.open(filepath)\n",
    "        if img.width>=img.height:\n",
    "            title_slide_layout = prs.slide_layouts[8]\n",
    "        else:\n",
    "            title_slide_layout = prs.slide_layouts[4]\n",
    "        slide = prs.slides.add_slide(title_slide_layout)\n",
    "\n",
    "        title = slide.shapes.title\n",
    "        title.text = \"[Article Title]\"\n",
    "        img_placeholder = slide.placeholders[1]\n",
    "        img_placeholder.insert_picture(filepath)\n",
    "        subtitle = slide.placeholders[2]\n",
    "        subtitle.text = 'Hello world Hello world Hello world Hello world Hello world Hello world Hello world Hello world Hello world Hello world Hello world Hello world '\n",
    "    except:\n",
    "        pass\n",
    "prs.save('Diagnosis Report.pptx')"
   ]
  },
  {
   "cell_type": "code",
   "execution_count": null,
   "metadata": {},
   "outputs": [],
   "source": []
  }
 ],
 "metadata": {
  "kernelspec": {
   "display_name": "Python 3",
   "language": "python",
   "name": "python3"
  },
  "language_info": {
   "codemirror_mode": {
    "name": "ipython",
    "version": 3
   },
   "file_extension": ".py",
   "mimetype": "text/x-python",
   "name": "python",
   "nbconvert_exporter": "python",
   "pygments_lexer": "ipython3",
   "version": "3.10.5"
  },
  "orig_nbformat": 4,
  "vscode": {
   "interpreter": {
    "hash": "26de051ba29f2982a8de78e945f0abaf191376122a1563185a90213a26c5da77"
   }
  }
 },
 "nbformat": 4,
 "nbformat_minor": 2
}
